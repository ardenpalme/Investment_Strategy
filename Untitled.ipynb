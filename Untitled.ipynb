{
 "cells": [
  {
   "cell_type": "code",
   "execution_count": 1,
   "id": "62e1743c-a29f-4fdc-b0c6-07a9072ce7ef",
   "metadata": {},
   "outputs": [],
   "source": [
    "from vectorbtpro import *\n",
    "import os"
   ]
  },
  {
   "cell_type": "markdown",
   "id": "3436e210-8f5f-43ad-9721-6798d494c3f4",
   "metadata": {},
   "source": [
    "## Data Ingest"
   ]
  },
  {
   "cell_type": "code",
   "execution_count": 2,
   "id": "fb0be527-567a-4e3c-a4da-fd4544e98fba",
   "metadata": {},
   "outputs": [
    {
     "data": {
      "application/vnd.jupyter.widget-view+json": {
       "model_id": "a3706124496d41499a56ab3f302deb28",
       "version_major": 2,
       "version_minor": 0
      },
      "text/plain": [
       " 33%|###3      | 1/3 [00:02<00:04,  2.24s/it, symbol=X:ETHUSD]"
      ]
     },
     "metadata": {},
     "output_type": "display_data"
    }
   ],
   "source": [
    "polygon_api_key = os.getenv('POLYGON_API_KEY')\n",
    "vbt.PolygonData.set_custom_settings(\n",
    "    client_config=dict(\n",
    "        api_key=polygon_api_key\n",
    "    )\n",
    ")\n",
    "data = vbt.PolygonData.pull(\n",
    "    [\"X:BTCUSD\",\n",
    "    \"X:ETHUSD\",\n",
    "    \"X:SOLUSD\"],\n",
    "    start=\"2022-01-01\",\n",
    "    end=\"2024-11-01\",\n",
    "    timeframe=\"1 day\"\n",
    ")\n",
    "\n",
    "data = data.rename_symbols({'X:BTCUSD':'BTCUSD', \n",
    "                            'X:ETHUSD' : 'ETHUSD', \n",
    "                            'X:SOLUSD' : 'SOLUSD'})\n",
    "\n",
    "data.to_hdf('priceseries.h5')"
   ]
  },
  {
   "cell_type": "code",
   "execution_count": null,
   "id": "a4ace628-77f7-4262-89ee-2ff1e5f42b10",
   "metadata": {},
   "outputs": [],
   "source": [
    "data = vbt.HDFData.pull(['priceseries.h5/BTCUSD'])"
   ]
  },
  {
   "cell_type": "code",
   "execution_count": 3,
   "id": "62103008-57a1-4e7f-9129-7eb1b82e3f92",
   "metadata": {},
   "outputs": [],
   "source": [
    "open_price = data.get('Open')\n",
    "close_price = data.get('Close')\n",
    "high_price = data.get('High')\n",
    "low_price = data.get('Low')"
   ]
  },
  {
   "cell_type": "code",
   "execution_count": null,
   "id": "e2608b2a-6c6c-44b3-b05e-f03cfc590dea",
   "metadata": {},
   "outputs": [],
   "source": []
  }
 ],
 "metadata": {
  "kernelspec": {
   "display_name": "Python 3 (ipykernel)",
   "language": "python",
   "name": "python3"
  },
  "language_info": {
   "codemirror_mode": {
    "name": "ipython",
    "version": 3
   },
   "file_extension": ".py",
   "mimetype": "text/x-python",
   "name": "python",
   "nbconvert_exporter": "python",
   "pygments_lexer": "ipython3",
   "version": "3.11.10"
  }
 },
 "nbformat": 4,
 "nbformat_minor": 5
}
