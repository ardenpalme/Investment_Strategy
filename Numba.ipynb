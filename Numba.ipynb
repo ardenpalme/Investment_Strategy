{
 "cells": [
  {
   "cell_type": "code",
   "execution_count": 10,
   "id": "272fd7b6-7353-4f4c-b952-bd53d4a8b4f1",
   "metadata": {},
   "outputs": [],
   "source": [
    "from numba import njit\n",
    "import numpy as np\n",
    "import time"
   ]
  },
  {
   "cell_type": "code",
   "execution_count": 5,
   "id": "5805c1ac-a8fb-46d9-9a1a-715a75162ebd",
   "metadata": {},
   "outputs": [],
   "source": [
    "x = np.arange(100).reshape(10,10)"
   ]
  },
  {
   "cell_type": "code",
   "execution_count": 8,
   "id": "a635b436-095f-4bb8-a3e1-a2299b0979a0",
   "metadata": {},
   "outputs": [],
   "source": [
    "@njit\n",
    "def go_fast(a):\n",
    "    trace = 0.0\n",
    "    for i in range(a.shape[0]):\n",
    "        trace += np.tanh(a[i,i])\n",
    "    return a + trace\n",
    "        "
   ]
  },
  {
   "cell_type": "code",
   "execution_count": 9,
   "id": "29775115-6dfb-466b-8e16-cc533a68b5ba",
   "metadata": {},
   "outputs": [
    {
     "data": {
      "text/plain": [
       "array([[  9.,  10.,  11.,  12.,  13.,  14.,  15.,  16.,  17.,  18.],\n",
       "       [ 19.,  20.,  21.,  22.,  23.,  24.,  25.,  26.,  27.,  28.],\n",
       "       [ 29.,  30.,  31.,  32.,  33.,  34.,  35.,  36.,  37.,  38.],\n",
       "       [ 39.,  40.,  41.,  42.,  43.,  44.,  45.,  46.,  47.,  48.],\n",
       "       [ 49.,  50.,  51.,  52.,  53.,  54.,  55.,  56.,  57.,  58.],\n",
       "       [ 59.,  60.,  61.,  62.,  63.,  64.,  65.,  66.,  67.,  68.],\n",
       "       [ 69.,  70.,  71.,  72.,  73.,  74.,  75.,  76.,  77.,  78.],\n",
       "       [ 79.,  80.,  81.,  82.,  83.,  84.,  85.,  86.,  87.,  88.],\n",
       "       [ 89.,  90.,  91.,  92.,  93.,  94.,  95.,  96.,  97.,  98.],\n",
       "       [ 99., 100., 101., 102., 103., 104., 105., 106., 107., 108.]])"
      ]
     },
     "execution_count": 9,
     "metadata": {},
     "output_type": "execute_result"
    }
   ],
   "source": [
    "go_fast(x)"
   ]
  },
  {
   "cell_type": "code",
   "execution_count": 11,
   "id": "6a2a0315-2075-4b48-a1a7-07f8174f424a",
   "metadata": {},
   "outputs": [
    {
     "name": "stdout",
     "output_type": "stream",
     "text": [
      "Elapsed (after compilation) = 0.00012683868408203125\n"
     ]
    },
    {
     "data": {
      "text/plain": [
       "array([[  9.,  10.,  11.,  12.,  13.,  14.,  15.,  16.,  17.,  18.],\n",
       "       [ 19.,  20.,  21.,  22.,  23.,  24.,  25.,  26.,  27.,  28.],\n",
       "       [ 29.,  30.,  31.,  32.,  33.,  34.,  35.,  36.,  37.,  38.],\n",
       "       [ 39.,  40.,  41.,  42.,  43.,  44.,  45.,  46.,  47.,  48.],\n",
       "       [ 49.,  50.,  51.,  52.,  53.,  54.,  55.,  56.,  57.,  58.],\n",
       "       [ 59.,  60.,  61.,  62.,  63.,  64.,  65.,  66.,  67.,  68.],\n",
       "       [ 69.,  70.,  71.,  72.,  73.,  74.,  75.,  76.,  77.,  78.],\n",
       "       [ 79.,  80.,  81.,  82.,  83.,  84.,  85.,  86.,  87.,  88.],\n",
       "       [ 89.,  90.,  91.,  92.,  93.,  94.,  95.,  96.,  97.,  98.],\n",
       "       [ 99., 100., 101., 102., 103., 104., 105., 106., 107., 108.]])"
      ]
     },
     "execution_count": 11,
     "metadata": {},
     "output_type": "execute_result"
    }
   ],
   "source": [
    "start = time.time()\n",
    "y = go_fast(x)\n",
    "end = time.time()\n",
    "print(\"Elapsed (after compilation) = %s\" % (end - start))\n",
    "y"
   ]
  },
  {
   "cell_type": "code",
   "execution_count": null,
   "id": "20a50564-d07c-4a2f-bd20-d04cdc8671c7",
   "metadata": {},
   "outputs": [],
   "source": []
  }
 ],
 "metadata": {
  "kernelspec": {
   "display_name": "Python 3 (ipykernel)",
   "language": "python",
   "name": "python3"
  },
  "language_info": {
   "codemirror_mode": {
    "name": "ipython",
    "version": 3
   },
   "file_extension": ".py",
   "mimetype": "text/x-python",
   "name": "python",
   "nbconvert_exporter": "python",
   "pygments_lexer": "ipython3",
   "version": "3.11.10"
  }
 },
 "nbformat": 4,
 "nbformat_minor": 5
}
