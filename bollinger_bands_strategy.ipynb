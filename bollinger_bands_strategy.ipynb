{
 "cells": [
  {
   "cell_type": "code",
   "execution_count": 10,
   "id": "3d1e855a-7d3f-41dc-ad4d-dc67fa5778bb",
   "metadata": {},
   "outputs": [],
   "source": [
    "from vectorbtpro import *\n",
    "import os\n",
    "from IPython.display import HTML, display\n",
    "from plotly.graph_objects import Figure"
   ]
  },
  {
   "cell_type": "markdown",
   "id": "99e389d9-f192-42d5-8c3c-f9f78c9c1106",
   "metadata": {},
   "source": [
    "### Data Ingest "
   ]
  },
  {
   "cell_type": "code",
   "execution_count": 11,
   "id": "9388fa6b-03a8-493d-8834-1648f9873e1f",
   "metadata": {},
   "outputs": [],
   "source": [
    "'''\n",
    "polygon_api_key = os.getenv('POLYGON_API_KEY')\n",
    "vbt.PolygonData.set_custom_settings(\n",
    "    client_config=dict(\n",
    "        api_key=polygon_api_key\n",
    "    )\n",
    ")\n",
    "data = vbt.PolygonData.pull(\n",
    "    [\"X:BTCUSD\",\n",
    "    \"X:ETHUSD\",\n",
    "    \"X:SOLUSD\"],\n",
    "    start=\"2019-01-01\",\n",
    "    end=\"2024-11-01\",\n",
    "    timeframe=\"1 day\"\n",
    ")\n",
    "\n",
    "data.to_hdf('priceseries.h5')\n",
    "'''\n",
    "\n",
    "#data = vbt.HDFData.pull(['priceseries.h5/X:BTCUSD'])\n",
    "data = vbt.HDFData.pull('priceseries.h5')\n",
    "\n",
    "\n",
    "\n",
    "\n",
    "open_price = data.get('Open')\n",
    "close_price = data.get('Close')\n",
    "high_price = data.get('High')\n",
    "low_price = data.get('Low')"
   ]
  },
  {
   "cell_type": "markdown",
   "id": "5e76cfb6-1bf4-436d-a6fc-1a20279a1ce0",
   "metadata": {},
   "source": [
    "### Indicator Parameter Space"
   ]
  },
  {
   "cell_type": "code",
   "execution_count": 12,
   "id": "4b7a067e-c8f6-41ff-a542-17d5d08ca2a9",
   "metadata": {},
   "outputs": [],
   "source": [
    "wtypes = [\"simple\", \"exp\", \"wilder\"]\n",
    "bbands_win = np.arange(10, 50, 1)\n",
    "alphas = np.arange(1.5, 3.0, 0.05)"
   ]
  },
  {
   "cell_type": "markdown",
   "id": "45ee08de-050a-49bb-8d89-41fa5eded3fc",
   "metadata": {},
   "source": [
    "Bollinger-Band Calculation: $\\alpha$ = number of standard deviations\n",
    "$$\n",
    "\\begin{align*}\n",
    "\\text{Middle Band} &= \\text{SMA}(\\text{close}, n) \\\\\n",
    "\\text{Upper Band} &= \\text{SMA}(\\text{close}, n) + \\alpha \\times \\sigma(\\text{close}, n) \\\\\n",
    "\\text{Lower Band} &= \\text{SMA}(\\text{close}, n) - \\alpha \\times \\sigma(\\text{close}, n) \\\\\\\\\n",
    "\\text{Bandwidth} &= \\frac{\\text{Upper Band} - \\text{Lower Band}}{\\text{Middle Band}}\n",
    "\\end{align*}\n",
    "$$"
   ]
  },
  {
   "cell_type": "code",
   "execution_count": 13,
   "id": "6617db2c-12aa-4685-8236-ab4e08890349",
   "metadata": {},
   "outputs": [],
   "source": [
    "bbands = vbt.BBANDS.run(\n",
    "    close_price,\n",
    "    window=bbands_win,\n",
    "    wtype=wtypes,\n",
    "    alpha=alphas,\n",
    "    param_product=True\n",
    ")"
   ]
  },
  {
   "cell_type": "markdown",
   "id": "2362bef1-bf35-4e63-9671-966008ec9857",
   "metadata": {},
   "source": [
    "### Trade Conditions\n",
    "\n",
    "#### Bollinger Band Signal\n",
    "<u>Sell signal</u>: Downward breakout while expanding  \n",
    "If the daily low is below the lower band *AND* the bandwidth is above the lower bandwidth threshold.\n",
    "\n",
    "<u>Buy signal</u>: Upward breakout while squeezing  \n",
    "If the daily high is above the upper band *AND* the bandwidth is below the upper bandwidth threshold."
   ]
  },
  {
   "cell_type": "code",
   "execution_count": 14,
   "id": "89a5e20c-1eab-4daa-9278-61ab558a03e5",
   "metadata": {},
   "outputs": [
    {
     "data": {
      "text/plain": [
       "bb_window  bb_wtype  bb_alpha  symbol  \n",
       "10         simple    1.50      X:BTCUSD    17\n",
       "                               X:ETHUSD    14\n",
       "                               X:SOLUSD    26\n",
       "                     1.55      X:BTCUSD    16\n",
       "                               X:ETHUSD    13\n",
       "                                           ..\n",
       "49         wilder    2.90      X:ETHUSD     1\n",
       "                               X:SOLUSD     0\n",
       "                     2.95      X:BTCUSD     3\n",
       "                               X:ETHUSD     1\n",
       "                               X:SOLUSD     0\n",
       "Length: 10800, dtype: int64"
      ]
     },
     "execution_count": 14,
     "metadata": {},
     "output_type": "execute_result"
    }
   ],
   "source": [
    "lower_bandwidth_ths = 0.15\n",
    "upper_bandwidth_ths = 0.3\n",
    "bandwidth = (bbands.upper - bbands.lower) / bbands.middle\n",
    "\n",
    "entry_cond1 = data.get(\"Low\").vbt < bbands.lower\n",
    "entry_cond2 = bandwidth > upper_bandwidth_ths\n",
    "entry_cond3 = data.get(\"High\").vbt > bbands.upper\n",
    "entry_cond4 = bandwidth < lower_bandwidth_ths\n",
    "\n",
    "in_cond1, in_cond2, in_cond3, in_cond4 = vbt.pd_acc.x(entry_cond1, entry_cond2, entry_cond3, entry_cond4)\n",
    "entry_signals = (in_cond1.vbt & in_cond2).vbt | (in_cond3.vbt & in_cond4)\n",
    "\n",
    "exit_cond1 = data.get(\"High\").vbt > bbands.upper\n",
    "exit_cond2 = bandwidth > 0.3\n",
    "exit_cond3 = data.get(\"Low\").vbt < bbands.lower\n",
    "exit_cond4 = bandwidth < 0.15\n",
    "\n",
    "out_cond1, out_cond2, out_cond3, out_cond4 = vbt.pd_acc.x(exit_cond1, exit_cond2, exit_cond3, exit_cond4)\n",
    "exit_signals = (out_cond1.vbt & out_cond2).vbt | (out_cond3.vbt & out_cond4)\n",
    "\n",
    "# Caclulate the maximum number of exit signals after each entry signal\n",
    "exit_signals.vbt.signals.pos_rank_after(entry_signals, reset_wait=0).max() + 1"
   ]
  },
  {
   "cell_type": "markdown",
   "id": "3d66f204-16ee-48ce-b16b-c8338b1fa0fd",
   "metadata": {},
   "source": [
    "#### Cleaning\n",
    "Some signals shouln't be converted into orders. The maximum number of exit signals after each entry signal should be 1."
   ]
  },
  {
   "cell_type": "code",
   "execution_count": 15,
   "id": "5d30b2fd-7668-4d33-a072-af6b1f2a18b7",
   "metadata": {},
   "outputs": [
    {
     "data": {
      "text/plain": [
       "bb_window  bb_wtype  bb_alpha  symbol  \n",
       "10         simple    1.50      X:BTCUSD    1\n",
       "                               X:ETHUSD    1\n",
       "                               X:SOLUSD    1\n",
       "                     1.55      X:BTCUSD    1\n",
       "                               X:ETHUSD    1\n",
       "                                          ..\n",
       "49         wilder    2.90      X:ETHUSD    1\n",
       "                               X:SOLUSD    0\n",
       "                     2.95      X:BTCUSD    1\n",
       "                               X:ETHUSD    1\n",
       "                               X:SOLUSD    0\n",
       "Length: 10800, dtype: int64"
      ]
     },
     "execution_count": 15,
     "metadata": {},
     "output_type": "execute_result"
    }
   ],
   "source": [
    "# select only the first signal (entry or exit), and ignore subsequent signals of the same type\n",
    "entries, exits = entry_signals.vbt.signals.clean(exit_signals)\n",
    "\n",
    "exits.vbt.signals.pos_rank_after(entries, reset_wait=0).max() + 1"
   ]
  },
  {
   "cell_type": "markdown",
   "id": "f34d2c2a-4c1c-47ba-be69-722b1272364c",
   "metadata": {},
   "source": [
    "### Create a Portfolio from Entry and Exit Conditions"
   ]
  },
  {
   "cell_type": "code",
   "execution_count": 16,
   "id": "342caafe-ee9c-4b11-a159-99a01ac0bba0",
   "metadata": {},
   "outputs": [],
   "source": [
    "pf = vbt.Portfolio.from_signals(\n",
    "    close=close_price, \n",
    "    entries=entries, \n",
    "    exits=exits,\n",
    "    size=100,\n",
    "    size_type='value',\n",
    "    init_cash='auto'\n",
    ")\n",
    "\n",
    "performance_metrics = [\n",
    "    'max_dd', \n",
    "    'max_dd_duration',\n",
    "    'sortino_ratio',\n",
    "    'omega_ratio',\n",
    "    'profit_factor',\n",
    "    'expectancy',\n",
    "    'total_orders',\n",
    "    'win_rate',\n",
    "    'avg_winning_trade_duration',\n",
    "    'avg_losing_trade_duration'\n",
    "]\n",
    "\n",
    "stats_df = pf.stats(performance_metrics, agg_func=None)"
   ]
  },
  {
   "cell_type": "markdown",
   "id": "2f2433e4-133c-4970-b4bc-6519df48b67f",
   "metadata": {},
   "source": [
    "#### Analysis\n",
    "Which parameter combination (Bollinger Band window and $\\alpha$) yields the greatest Omega ratio (Risk-free rate $r_f = 0$)?\n",
    "$$\n",
    "\\begin{align*}\n",
    "\\Omega(R, \\tau) &= \\frac{\\int_{\\tau}^{\\infty} [1 - F(R)] \\, dR}{\\int_{-\\infty}^{\\tau} F(R) \\, dR} \\\\\\\\\n",
    "F(R) &= \\text{CDF of returns} \\\\\n",
    "\\tau &= r_f \\\\\n",
    "\\end{align*}\n",
    "$$\n"
   ]
  },
  {
   "cell_type": "code",
   "execution_count": 19,
   "id": "95b6ac5d-5ffb-486f-a85e-1ca3688c4940",
   "metadata": {},
   "outputs": [],
   "source": [
    "def get_wtype_stats(window_type, metric):\n",
    "    win_mask = stats_df.index.get_level_values('bb_wtype') == window_type\n",
    "    df = stats_df[win_mask]\n",
    "    btc_mask = df.index.get_level_values('symbol') == 'X:BTCUSD'\n",
    "    eth_mask = df.index.get_level_values('symbol') == 'X:ETHUSD'\n",
    "    sol_mask = df.index.get_level_values('symbol') == 'X:SOLUSD'\n",
    "\n",
    "    portfolio_data = pd.DataFrame({\n",
    "        'BTCUSD': df[btc_mask][metric].values,\n",
    "        'ETHUSD': df[eth_mask][metric].values,\n",
    "        'SOLUSD': df[sol_mask][metric].values\n",
    "    })\n",
    "\n",
    "    return portfolio_data"
   ]
  },
  {
   "cell_type": "code",
   "execution_count": 42,
   "id": "b6f3853d-a0b5-4f6e-80de-912bbfba9bf7",
   "metadata": {},
   "outputs": [],
   "source": [
    "pf_data = get_wtype_stats('exp', 'Omega Ratio')\n",
    "param_comb = list(product(bbands_win, alphas))\n",
    "\n",
    "pf_data.index = pd.MultiIndex.from_tuples(\n",
    "    param_comb, \n",
    "    names=['bbands_win', 'bbands_alpha'])\n",
    "\n",
    "fig = pf_data['ETHUSD'].vbt.heatmap(x_level='bbands_alpha', y_level='bbands_win')\n",
    "#fig.write_html(\"figure1.html\", include_plotlyjs=\"embed\")"
   ]
  },
  {
   "cell_type": "markdown",
   "id": "a4efdec7-5273-467d-91fd-8682b76e2c0c",
   "metadata": {},
   "source": [
    "<iframe src=\"figure1.html\" width=\"100%\" height=\"500\"></iframe>"
   ]
  },
  {
   "cell_type": "code",
   "execution_count": 21,
   "id": "082d1bc9-8808-45db-9c2b-e1135761fe17",
   "metadata": {},
   "outputs": [
    {
     "data": {
      "text/html": [
       "<div>\n",
       "<style scoped>\n",
       "    .dataframe tbody tr th:only-of-type {\n",
       "        vertical-align: middle;\n",
       "    }\n",
       "\n",
       "    .dataframe tbody tr th {\n",
       "        vertical-align: top;\n",
       "    }\n",
       "\n",
       "    .dataframe thead th {\n",
       "        text-align: right;\n",
       "    }\n",
       "</style>\n",
       "<table border=\"1\" class=\"dataframe\">\n",
       "  <thead>\n",
       "    <tr style=\"text-align: right;\">\n",
       "      <th></th>\n",
       "      <th></th>\n",
       "      <th></th>\n",
       "      <th></th>\n",
       "      <th>Max Drawdown [%]</th>\n",
       "      <th>Max Drawdown Duration</th>\n",
       "      <th>Sortino Ratio</th>\n",
       "      <th>Omega Ratio</th>\n",
       "      <th>Profit Factor</th>\n",
       "      <th>Expectancy</th>\n",
       "      <th>Total Orders</th>\n",
       "      <th>Win Rate [%]</th>\n",
       "      <th>Avg Winning Trade Duration</th>\n",
       "      <th>Avg Losing Trade Duration</th>\n",
       "    </tr>\n",
       "    <tr>\n",
       "      <th>bb_window</th>\n",
       "      <th>bb_wtype</th>\n",
       "      <th>bb_alpha</th>\n",
       "      <th>symbol</th>\n",
       "      <th></th>\n",
       "      <th></th>\n",
       "      <th></th>\n",
       "      <th></th>\n",
       "      <th></th>\n",
       "      <th></th>\n",
       "      <th></th>\n",
       "      <th></th>\n",
       "      <th></th>\n",
       "      <th></th>\n",
       "    </tr>\n",
       "  </thead>\n",
       "  <tbody>\n",
       "    <tr>\n",
       "      <th>18</th>\n",
       "      <th>simple</th>\n",
       "      <th>1.60</th>\n",
       "      <th>X:ETHUSD</th>\n",
       "      <td>12.545993</td>\n",
       "      <td>453 days</td>\n",
       "      <td>3.281070</td>\n",
       "      <td>1.558652</td>\n",
       "      <td>4.637169</td>\n",
       "      <td>11.476915</td>\n",
       "      <td>93</td>\n",
       "      <td>50.000000</td>\n",
       "      <td>28 days 05:13:02.608695652</td>\n",
       "      <td>14 days 01:02:36.521739130</td>\n",
       "    </tr>\n",
       "    <tr>\n",
       "      <th>19</th>\n",
       "      <th>simple</th>\n",
       "      <th>1.55</th>\n",
       "      <th>X:ETHUSD</th>\n",
       "      <td>13.090009</td>\n",
       "      <td>606 days</td>\n",
       "      <td>3.122316</td>\n",
       "      <td>1.528032</td>\n",
       "      <td>4.702737</td>\n",
       "      <td>12.166175</td>\n",
       "      <td>85</td>\n",
       "      <td>52.380952</td>\n",
       "      <td>28 days 13:05:27.272727273</td>\n",
       "      <td>17 days 19:12:00</td>\n",
       "    </tr>\n",
       "    <tr>\n",
       "      <th>18</th>\n",
       "      <th>simple</th>\n",
       "      <th>1.55</th>\n",
       "      <th>X:ETHUSD</th>\n",
       "      <td>12.739121</td>\n",
       "      <td>453 days</td>\n",
       "      <td>3.066601</td>\n",
       "      <td>1.495637</td>\n",
       "      <td>3.742053</td>\n",
       "      <td>10.381779</td>\n",
       "      <td>97</td>\n",
       "      <td>45.833333</td>\n",
       "      <td>31 days 14:10:54.545454545</td>\n",
       "      <td>14 days 05:32:18.461538461</td>\n",
       "    </tr>\n",
       "    <tr>\n",
       "      <th rowspan=\"2\" valign=\"top\">20</th>\n",
       "      <th rowspan=\"2\" valign=\"top\">simple</th>\n",
       "      <th>1.60</th>\n",
       "      <th>X:ETHUSD</th>\n",
       "      <td>16.827984</td>\n",
       "      <td>606 days</td>\n",
       "      <td>2.570770</td>\n",
       "      <td>1.489654</td>\n",
       "      <td>5.052224</td>\n",
       "      <td>11.808077</td>\n",
       "      <td>81</td>\n",
       "      <td>52.500000</td>\n",
       "      <td>28 days 18:17:08.571428571</td>\n",
       "      <td>19 days 10:06:18.947368421</td>\n",
       "    </tr>\n",
       "    <tr>\n",
       "      <th>1.50</th>\n",
       "      <th>X:ETHUSD</th>\n",
       "      <td>13.393991</td>\n",
       "      <td>646 days</td>\n",
       "      <td>2.974282</td>\n",
       "      <td>1.487314</td>\n",
       "      <td>4.129314</td>\n",
       "      <td>11.914805</td>\n",
       "      <td>83</td>\n",
       "      <td>51.219512</td>\n",
       "      <td>31 days 08:00:00</td>\n",
       "      <td>18 days 18:00:00</td>\n",
       "    </tr>\n",
       "  </tbody>\n",
       "</table>\n",
       "</div>"
      ],
      "text/plain": [
       "                                      Max Drawdown [%] Max Drawdown Duration  \\\n",
       "bb_window bb_wtype bb_alpha symbol                                             \n",
       "18        simple   1.60     X:ETHUSD         12.545993              453 days   \n",
       "19        simple   1.55     X:ETHUSD         13.090009              606 days   \n",
       "18        simple   1.55     X:ETHUSD         12.739121              453 days   \n",
       "20        simple   1.60     X:ETHUSD         16.827984              606 days   \n",
       "                   1.50     X:ETHUSD         13.393991              646 days   \n",
       "\n",
       "                                      Sortino Ratio  Omega Ratio  \\\n",
       "bb_window bb_wtype bb_alpha symbol                                 \n",
       "18        simple   1.60     X:ETHUSD       3.281070     1.558652   \n",
       "19        simple   1.55     X:ETHUSD       3.122316     1.528032   \n",
       "18        simple   1.55     X:ETHUSD       3.066601     1.495637   \n",
       "20        simple   1.60     X:ETHUSD       2.570770     1.489654   \n",
       "                   1.50     X:ETHUSD       2.974282     1.487314   \n",
       "\n",
       "                                      Profit Factor  Expectancy  Total Orders  \\\n",
       "bb_window bb_wtype bb_alpha symbol                                              \n",
       "18        simple   1.60     X:ETHUSD       4.637169   11.476915            93   \n",
       "19        simple   1.55     X:ETHUSD       4.702737   12.166175            85   \n",
       "18        simple   1.55     X:ETHUSD       3.742053   10.381779            97   \n",
       "20        simple   1.60     X:ETHUSD       5.052224   11.808077            81   \n",
       "                   1.50     X:ETHUSD       4.129314   11.914805            83   \n",
       "\n",
       "                                      Win Rate [%] Avg Winning Trade Duration  \\\n",
       "bb_window bb_wtype bb_alpha symbol                                              \n",
       "18        simple   1.60     X:ETHUSD     50.000000 28 days 05:13:02.608695652   \n",
       "19        simple   1.55     X:ETHUSD     52.380952 28 days 13:05:27.272727273   \n",
       "18        simple   1.55     X:ETHUSD     45.833333 31 days 14:10:54.545454545   \n",
       "20        simple   1.60     X:ETHUSD     52.500000 28 days 18:17:08.571428571   \n",
       "                   1.50     X:ETHUSD     51.219512           31 days 08:00:00   \n",
       "\n",
       "                                      Avg Losing Trade Duration  \n",
       "bb_window bb_wtype bb_alpha symbol                               \n",
       "18        simple   1.60     X:ETHUSD 14 days 01:02:36.521739130  \n",
       "19        simple   1.55     X:ETHUSD           17 days 19:12:00  \n",
       "18        simple   1.55     X:ETHUSD 14 days 05:32:18.461538461  \n",
       "20        simple   1.60     X:ETHUSD 19 days 10:06:18.947368421  \n",
       "                   1.50     X:ETHUSD           18 days 18:00:00  "
      ]
     },
     "execution_count": 21,
     "metadata": {},
     "output_type": "execute_result"
    }
   ],
   "source": [
    "eth_mask = stats_df.index.get_level_values('symbol') == 'X:ETHUSD'\n",
    "stats_df[eth_mask].sort_values(by='Omega Ratio', ascending=False).head()"
   ]
  },
  {
   "cell_type": "code",
   "execution_count": 41,
   "id": "d6d010c3-7ac2-45d2-85ae-995e1d5aac2b",
   "metadata": {},
   "outputs": [],
   "source": [
    "fig = pf[(18, \"simple\", 1.60, \"X:ETHUSD\")].plot()\n",
    "#fig.write_html(\"figure1.html\", include_plotlyjs=\"embed\")"
   ]
  },
  {
   "cell_type": "markdown",
   "id": "29997256-bf90-4e13-ac2c-daed04ca4be8",
   "metadata": {},
   "source": [
    "<iframe src=\"figure2.html\" width=\"100%\" height=\"1000\"></iframe>"
   ]
  },
  {
   "cell_type": "code",
   "execution_count": null,
   "id": "c8e05619-784a-402a-bda2-9ec1b51d49eb",
   "metadata": {},
   "outputs": [],
   "source": []
  }
 ],
 "metadata": {
  "kernelspec": {
   "display_name": "Python 3 (ipykernel)",
   "language": "python",
   "name": "python3"
  },
  "language_info": {
   "codemirror_mode": {
    "name": "ipython",
    "version": 3
   },
   "file_extension": ".py",
   "mimetype": "text/x-python",
   "name": "python",
   "nbconvert_exporter": "python",
   "pygments_lexer": "ipython3",
   "version": "3.11.10"
  }
 },
 "nbformat": 4,
 "nbformat_minor": 5
}
