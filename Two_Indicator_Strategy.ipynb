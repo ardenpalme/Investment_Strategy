{
 "cells": [
  {
   "cell_type": "code",
   "execution_count": 1,
   "id": "3d1e855a-7d3f-41dc-ad4d-dc67fa5778bb",
   "metadata": {},
   "outputs": [],
   "source": [
    "from vectorbtpro import *\n",
    "import os"
   ]
  },
  {
   "cell_type": "markdown",
   "id": "99e389d9-f192-42d5-8c3c-f9f78c9c1106",
   "metadata": {},
   "source": [
    "### Data Ingest "
   ]
  },
  {
   "cell_type": "code",
   "execution_count": 2,
   "id": "9388fa6b-03a8-493d-8834-1648f9873e1f",
   "metadata": {},
   "outputs": [],
   "source": [
    "'''\n",
    "polygon_api_key = os.getenv('POLYGON_API_KEY')\n",
    "vbt.PolygonData.set_custom_settings(\n",
    "    client_config=dict(\n",
    "        api_key=polygon_api_key\n",
    "    )\n",
    ")\n",
    "data = vbt.PolygonData.pull(\n",
    "    [\"X:BTCUSD\",\n",
    "    \"X:ETHUSD\",\n",
    "    \"X:SOLUSD\"],\n",
    "    start=\"2019-01-01\",\n",
    "    end=\"2024-11-01\",\n",
    "    timeframe=\"1 day\"\n",
    ")\n",
    "\n",
    "data.to_hdf('priceseries.h5')\n",
    "'''\n",
    "\n",
    "#data = vbt.HDFData.pull(['priceseries.h5/X:BTCUSD'])\n",
    "data = vbt.HDFData.pull('priceseries.h5')\n",
    "\n",
    "\n",
    "\n",
    "\n",
    "open_price = data.get('Open')\n",
    "close_price = data.get('Close')\n",
    "high_price = data.get('High')\n",
    "low_price = data.get('Low')"
   ]
  },
  {
   "cell_type": "markdown",
   "id": "5e76cfb6-1bf4-436d-a6fc-1a20279a1ce0",
   "metadata": {},
   "source": [
    "### Indicator Parameter Space"
   ]
  },
  {
   "cell_type": "code",
   "execution_count": 3,
   "id": "4b7a067e-c8f6-41ff-a542-17d5d08ca2a9",
   "metadata": {},
   "outputs": [],
   "source": [
    "wtypes = [\"simple\", \"exp\", \"wilder\"]\n",
    "rsi_win = list(range(8, 21))\n",
    "bbands_win = np.arange(10, 50, 5)\n",
    "alphas = np.arange(1.5, 3.0, 0.5)"
   ]
  },
  {
   "cell_type": "markdown",
   "id": "45ee08de-050a-49bb-8d89-41fa5eded3fc",
   "metadata": {},
   "source": [
    "Bollinger-Band Calculation: $\\alpha$ = number of standard deviations\n",
    "$$\n",
    "\\begin{align*}\n",
    "\\text{Middle Band} &= \\text{SMA}(\\text{close}, n) \\\\\n",
    "\\text{Upper Band} &= \\text{SMA}(\\text{close}, n) + \\alpha \\times \\sigma(\\text{close}, n) \\\\\n",
    "\\text{Lower Band} &= \\text{SMA}(\\text{close}, n) - \\alpha \\times \\sigma(\\text{close}, n) \\\\\\\\\n",
    "\\text{Bandwidth} &= \\frac{\\text{Upper Band} - \\text{Lower Band}}{\\text{Middle Band}}\n",
    "\\end{align*}\n",
    "$$"
   ]
  },
  {
   "cell_type": "code",
   "execution_count": 4,
   "id": "6617db2c-12aa-4685-8236-ab4e08890349",
   "metadata": {},
   "outputs": [],
   "source": [
    "bbands = vbt.BBANDS.run(\n",
    "    close_price,\n",
    "    window=bbands_win,\n",
    "    wtype=wtypes,\n",
    "    alpha=alphas,\n",
    "    param_product=True\n",
    ")"
   ]
  },
  {
   "cell_type": "markdown",
   "id": "2362bef1-bf35-4e63-9671-966008ec9857",
   "metadata": {},
   "source": [
    "### Trade Conditions\n",
    "\n",
    "#### Bollinger Band Signal\n",
    "<u>Sell signal</u>: Downward breakout while expanding  \n",
    "If the daily low is below the lower band *AND* the bandwidth is above the lower bandwidth threshold.\n",
    "\n",
    "<u>Buy signal</u>: Upward breakout while squeezing  \n",
    "If the daily high is above the upper band *AND* the bandwidth is below the upper bandwidth threshold."
   ]
  },
  {
   "cell_type": "code",
   "execution_count": 10,
   "id": "89a5e20c-1eab-4daa-9278-61ab558a03e5",
   "metadata": {},
   "outputs": [
    {
     "data": {
      "text/plain": [
       "bb_window  bb_wtype  bb_alpha  symbol  \n",
       "10         simple    1.5       X:BTCUSD    17\n",
       "                               X:ETHUSD    14\n",
       "                               X:SOLUSD    26\n",
       "                     2.0       X:BTCUSD    14\n",
       "                               X:ETHUSD    12\n",
       "                                           ..\n",
       "45         wilder    2.0       X:ETHUSD    45\n",
       "                               X:SOLUSD    48\n",
       "                     2.5       X:BTCUSD     8\n",
       "                               X:ETHUSD     3\n",
       "                               X:SOLUSD    23\n",
       "Length: 216, dtype: int64"
      ]
     },
     "execution_count": 10,
     "metadata": {},
     "output_type": "execute_result"
    }
   ],
   "source": [
    "bandwidth = (bbands.upper - bbands.lower) / bbands.middle\n",
    "\n",
    "entry_cond1 = data.get(\"Low\").vbt < bbands.lower\n",
    "entry_cond2 = bandwidth > 0.3\n",
    "entry_cond3 = data.get(\"High\").vbt > bbands.upper\n",
    "entry_cond4 = bandwidth < 0.15\n",
    "\n",
    "in_cond1, in_cond2, in_cond3, in_cond4 = vbt.pd_acc.x(entry_cond1, entry_cond2, entry_cond3, entry_cond4)\n",
    "entry_signals = (in_cond1.vbt & in_cond2).vbt | (in_cond3.vbt & in_cond4)\n",
    "\n",
    "exit_cond1 = data.get(\"High\").vbt > bbands.upper\n",
    "exit_cond2 = bandwidth > 0.3\n",
    "exit_cond3 = data.get(\"Low\").vbt < bbands.lower\n",
    "exit_cond4 = bandwidth < 0.15\n",
    "\n",
    "out_cond1, out_cond2, out_cond3, out_cond4 = vbt.pd_acc.x(exit_cond1, exit_cond2, exit_cond3, exit_cond4)\n",
    "exit_signals = (out_cond1.vbt & out_cond2).vbt | (out_cond3.vbt & out_cond4)\n",
    "\n",
    "# Caclulate the maximum number of exit signals after each entry signal\n",
    "exit_signals.vbt.signals.pos_rank_after(entry_signals, reset_wait=0).max() + 1"
   ]
  },
  {
   "cell_type": "markdown",
   "id": "3d66f204-16ee-48ce-b16b-c8338b1fa0fd",
   "metadata": {},
   "source": [
    "#### Cleaning\n",
    "Some signals shouln't be converted into orders. The maximum number of exit signals after each entry signal should be 1."
   ]
  },
  {
   "cell_type": "code",
   "execution_count": 12,
   "id": "5d30b2fd-7668-4d33-a072-af6b1f2a18b7",
   "metadata": {},
   "outputs": [
    {
     "data": {
      "text/plain": [
       "bb_window  bb_wtype  bb_alpha  symbol  \n",
       "10         simple    1.5       X:BTCUSD    1\n",
       "                               X:ETHUSD    1\n",
       "                               X:SOLUSD    1\n",
       "                     2.0       X:BTCUSD    1\n",
       "                               X:ETHUSD    1\n",
       "                                          ..\n",
       "45         wilder    2.0       X:ETHUSD    1\n",
       "                               X:SOLUSD    1\n",
       "                     2.5       X:BTCUSD    1\n",
       "                               X:ETHUSD    1\n",
       "                               X:SOLUSD    1\n",
       "Length: 216, dtype: int64"
      ]
     },
     "execution_count": 12,
     "metadata": {},
     "output_type": "execute_result"
    }
   ],
   "source": [
    "# select only the first signal (entry or exit), and ignore subsequent signals of the same type\n",
    "entries, exits = entry_signals.vbt.signals.clean(exit_signals)\n",
    "\n",
    "exits.vbt.signals.pos_rank_after(entries, reset_wait=0).max() + 1"
   ]
  },
  {
   "cell_type": "markdown",
   "id": "f34d2c2a-4c1c-47ba-be69-722b1272364c",
   "metadata": {},
   "source": [
    "### Create a Portfolio from Entry and Exit Conditions"
   ]
  },
  {
   "cell_type": "code",
   "execution_count": 13,
   "id": "342caafe-ee9c-4b11-a159-99a01ac0bba0",
   "metadata": {},
   "outputs": [],
   "source": [
    "pf = vbt.Portfolio.from_signals(\n",
    "    close=close_price, \n",
    "    entries=entries, \n",
    "    exits=exits,\n",
    "    size=100,\n",
    "    size_type='value',\n",
    "    init_cash='auto'\n",
    ")\n",
    "\n",
    "performance_metrics = [\n",
    "    'max_dd', \n",
    "    'max_dd_duration',\n",
    "    'sortino_ratio',\n",
    "    'omega_ratio',\n",
    "    'profit_factor',\n",
    "    'expectancy',\n",
    "    'total_orders',\n",
    "    'win_rate',\n",
    "    'avg_winning_trade_duration',\n",
    "    'avg_losing_trade_duration'\n",
    "]\n",
    "\n",
    "stats_df = pf.stats(performance_metrics, agg_func=None)"
   ]
  },
  {
   "cell_type": "markdown",
   "id": "2f2433e4-133c-4970-b4bc-6519df48b67f",
   "metadata": {},
   "source": [
    "#### Analysis\n",
    "Which parameter combination yields the greatest Omega ratio (Risk-free rate $r_f = 0$)?\n",
    "$$\n",
    "\\Omega(R, \\tau) = \\frac{\\int_{\\tau}^{\\infty} [1 - F(R)] \\, dR}{\\int_{-\\infty}^{\\tau} F(R) \\, dR}\n",
    "$$"
   ]
  },
  {
   "cell_type": "code",
   "execution_count": 70,
   "id": "95b6ac5d-5ffb-486f-a85e-1ca3688c4940",
   "metadata": {},
   "outputs": [],
   "source": [
    "def get_wtype_stats(window_type, metric):\n",
    "    win_mask = stats_df.index.get_level_values('bb_wtype') == window_type\n",
    "    df = stats_df[win_mask]\n",
    "    btc_mask = df.index.get_level_values('symbol') == 'X:BTCUSD'\n",
    "    eth_mask = df.index.get_level_values('symbol') == 'X:ETHUSD'\n",
    "    sol_mask = df.index.get_level_values('symbol') == 'X:SOLUSD'\n",
    "\n",
    "    portfolio_data = pd.DataFrame({\n",
    "        'BTCUSD': df[btc_mask][metric].values,\n",
    "        'ETHUSD': df[eth_mask][metric].values,\n",
    "        'SOLUSD': df[sol_mask][metric].values\n",
    "    })\n",
    "\n",
    "    return portfolio_data"
   ]
  },
  {
   "cell_type": "code",
   "execution_count": 71,
   "id": "b6f3853d-a0b5-4f6e-80de-912bbfba9bf7",
   "metadata": {},
   "outputs": [
    {
     "data": {
      "application/vnd.jupyter.widget-view+json": {
       "model_id": "53089d71416743288ce3f4bd5199b8e1",
       "version_major": 2,
       "version_minor": 0
      },
      "text/plain": [
       "FigureWidget({\n",
       "    'data': [{'colorscale': [[0.0, '#0d0887'], [0.1111111111111111, '#46039f'],\n",
       "                             [0.2222222222222222, '#7201a8'], [0.3333333333333333,\n",
       "                             '#9c179e'], [0.4444444444444444, '#bd3786'],\n",
       "                             [0.5555555555555556, '#d8576b'], [0.6666666666666666,\n",
       "                             '#ed7953'], [0.7777777777777778, '#fb9f3a'],\n",
       "                             [0.8888888888888888, '#fdca26'], [1.0, '#f0f921']],\n",
       "              'hoverongaps': False,\n",
       "              'hovertemplate': 'bbands_alpha: %{x}<br>bbands_win: %{y}<br>value: %{z}<extra></extra>',\n",
       "              'type': 'heatmap',\n",
       "              'uid': '66013004-705d-40fe-ac04-a47aa82941bc',\n",
       "              'x': array([1.5, 2. , 2.5]),\n",
       "              'y': array([10, 15, 20, 25, 30, 35, 40, 45]),\n",
       "              'z': array([[1.33362648, 1.26029291, 1.04539473],\n",
       "                          [1.20394613, 1.281769  , 1.043356  ],\n",
       "                          [1.17947907, 1.23493025, 1.17416454],\n",
       "                          [1.22447524, 1.16740457, 1.11000984],\n",
       "                          [1.29905824, 1.16305154, 1.07617213],\n",
       "                          [1.24415205, 1.21069796, 1.08449385],\n",
       "                          [1.1545141 , 1.20047418, 1.07234994],\n",
       "                          [1.17045924, 1.20735785, 1.3623507 ]])}],\n",
       "    'layout': {'height': 489.99999999999994,\n",
       "               'legend': {'orientation': 'h',\n",
       "                          'traceorder': 'normal',\n",
       "                          'x': 1,\n",
       "                          'xanchor': 'right',\n",
       "                          'y': 1.02,\n",
       "                          'yanchor': 'bottom'},\n",
       "               'margin': {'b': 30, 'l': 30, 'r': 30, 't': 30},\n",
       "               'template': '...',\n",
       "               'width': 494,\n",
       "               'xaxis': {'title': {'text': 'bbands_alpha'}},\n",
       "               'yaxis': {'title': {'text': 'bbands_win'}}}\n",
       "})"
      ]
     },
     "execution_count": 71,
     "metadata": {},
     "output_type": "execute_result"
    }
   ],
   "source": [
    "pf_data = get_wtype_stats('exp', 'Omega Ratio')\n",
    "param_comb = list(product(bbands_win, alphas))\n",
    "\n",
    "pf_data.index = pd.MultiIndex.from_tuples(\n",
    "    param_comb, \n",
    "    names=['bbands_win', 'bbands_alpha'])\n",
    "\n",
    "pf_data['ETHUSD'].vbt.heatmap(x_level='bbands_alpha', y_level='bbands_win')\n"
   ]
  },
  {
   "cell_type": "code",
   "execution_count": null,
   "id": "082d1bc9-8808-45db-9c2b-e1135761fe17",
   "metadata": {},
   "outputs": [],
   "source": []
  }
 ],
 "metadata": {
  "kernelspec": {
   "display_name": "Python 3 (ipykernel)",
   "language": "python",
   "name": "python3"
  },
  "language_info": {
   "codemirror_mode": {
    "name": "ipython",
    "version": 3
   },
   "file_extension": ".py",
   "mimetype": "text/x-python",
   "name": "python",
   "nbconvert_exporter": "python",
   "pygments_lexer": "ipython3",
   "version": "3.11.10"
  }
 },
 "nbformat": 4,
 "nbformat_minor": 5
}
